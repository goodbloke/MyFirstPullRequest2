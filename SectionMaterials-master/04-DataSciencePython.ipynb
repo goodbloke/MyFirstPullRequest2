{
 "cells": [
  {
   "cell_type": "markdown",
   "metadata": {},
   "source": [
    "<center><h1> Data Science in Python </h1></center>\n",
    "\n",
    "Data Science in Python revolves around some core modules, typically {scipy, numpy, pandas, matplotlib and scikit-learn}. Here we will explore the basics of these modules and what they do. \n",
    "\n",
    "NOTE: THIS NOTEBOOK STILL UNDER DEVELOPMENT"
   ]
  },
  {
   "cell_type": "markdown",
   "metadata": {},
   "source": [
    "![scipy](img/scipy.png)\n",
    "<br>\n",
    "<div class=\"alert alert-success\">\n",
    "Scipy is a collection of packages for scientific computing in Python. Scipy is massive, and is really a superset of many submodules. \n",
    "</div>\n",
    "\n",
    "<div class=\"alert alert-info\">\n",
    "Link: https://www.scipy.org/\n",
    "</div>"
   ]
  },
  {
   "cell_type": "code",
   "execution_count": 17,
   "metadata": {
    "collapsed": true
   },
   "outputs": [],
   "source": [
    "# You can import the full scipy package, typically shortened to 'sp'\n",
    "import scipy as sp\n",
    "\n",
    "# However, it is perhaps more common to import particular submodules\n",
    "#  For example, let's import the stats submodule\n",
    "import scipy.stats as sts"
   ]
  },
  {
   "cell_type": "markdown",
   "metadata": {},
   "source": [
    "There are any number of things scipy can do. For a simple / random example, let's use it's stats module to model flipping a coin with [Bernouilli Distribution](https://en.wikipedia.org/wiki/Bernoulli_distribution), which is a distribution that can model a random variable that can be either 0 (call it Tails) or 1 (call it Heads). "
   ]
  },
  {
   "cell_type": "code",
   "execution_count": 18,
   "metadata": {
    "collapsed": false
   },
   "outputs": [
    {
     "data": {
      "text/plain": [
       "1"
      ]
     },
     "execution_count": 18,
     "metadata": {},
     "output_type": "execute_result"
    }
   ],
   "source": [
    "# Let's model a fair coin - with 0.5 probability of being Heads\n",
    "sts.bernoulli.rvs(0.5)"
   ]
  },
  {
   "cell_type": "code",
   "execution_count": 19,
   "metadata": {
    "collapsed": false
   },
   "outputs": [
    {
     "name": "stdout",
     "output_type": "stream",
     "text": [
      "The first ten coin flips are:  [0, 0, 1, 1, 0, 1, 0, 1, 0, 1]\n",
      "The percent of heads from this sample is:  48.0 %\n"
     ]
    }
   ],
   "source": [
    "# Let's flip a bunch of coins!\n",
    "coin_flips = [sts.bernoulli.rvs(0.5) for i in range(100)]\n",
    "print('The first ten coin flips are: ', coin_flips[:10])\n",
    "print('The percent of heads from this sample is: ', sum(coin_flips) / len(coin_flips) * 100, '%')"
   ]
  },
  {
   "cell_type": "markdown",
   "metadata": {},
   "source": [
    "![numpy](img/numpy.png)\n",
    "\n",
    "<div class=\"alert alert-success\">\n",
    "Numpy contains an array object (for multi-dimensional data, typically of uniform type), and operations for linear algrebra and analysis on arrays. \n",
    "</div>\n",
    "\n",
    "<div class=\"alert alert-info\">\n",
    "Link: http://www.numpy.org/\n",
    "</div>\n",
    "\n",
    "Note: \n",
    "An array is a 'a systematic arrangement of similar objects, usually in rows and columns' (definition from [Wikipedia](https://en.wikipedia.org/wiki/Array))"
   ]
  },
  {
   "cell_type": "code",
   "execution_count": 20,
   "metadata": {
    "collapsed": true
   },
   "outputs": [],
   "source": [
    "# Numpy is standardly imported as 'np'\n",
    "import numpy as np"
   ]
  },
  {
   "cell_type": "code",
   "execution_count": 22,
   "metadata": {
    "collapsed": false
   },
   "outputs": [],
   "source": [
    "# Numpy's specialty is linear algebra and arrays of (uniform) data \n",
    "\n",
    "# Define some arrays\n",
    "arr_1 = np.array([1, 2, 3])\n",
    "arr_2 = np.array([4, 5, 6])\n",
    "\n",
    "#"
   ]
  },
  {
   "cell_type": "markdown",
   "metadata": {},
   "source": [
    "![pandas](img/pandas.png)\n",
    "\n",
    "<div class=\"alert alert-success\">\n",
    "Pandas is a package for data structures, and data analysis. It particularly excels at unstructured data. If you are familiar with R, is offers functionality quite similar to DataFrames. It also supports a range of data analysis features. \n",
    "</div>\n",
    "\n",
    "<div class=\"alert alert-info\">\n",
    "Link: http://pandas.pydata.org/\n",
    "</div>"
   ]
  },
  {
   "cell_type": "code",
   "execution_count": null,
   "metadata": {
    "collapsed": true
   },
   "outputs": [],
   "source": [
    "# Pandas is standardly imported as pd\n",
    "import pandas as pd"
   ]
  },
  {
   "cell_type": "code",
   "execution_count": null,
   "metadata": {
    "collapsed": false
   },
   "outputs": [],
   "source": [
    "pd.DataFrame?"
   ]
  },
  {
   "cell_type": "markdown",
   "metadata": {},
   "source": [
    "![matplotlib](img/matplotlib.png)\n",
    "\n",
    "<div class=\"alert alert-success\">\n",
    "Words\n",
    "</div>\n",
    "\n",
    "<div class=\"alert alert-info\">\n",
    "Link: http://matplotlib.org/\n",
    "</div>"
   ]
  },
  {
   "cell_type": "code",
   "execution_count": null,
   "metadata": {
    "collapsed": true
   },
   "outputs": [],
   "source": [
    "# This magic command is used to plot all figures inline in the notebook\n",
    "%matplotlib inline"
   ]
  },
  {
   "cell_type": "code",
   "execution_count": null,
   "metadata": {
    "collapsed": true
   },
   "outputs": [],
   "source": [
    "# Matplotlib is standardly imported as plt\n",
    "import matplotlib.pyplot as plt"
   ]
  },
  {
   "cell_type": "code",
   "execution_count": null,
   "metadata": {
    "collapsed": false
   },
   "outputs": [],
   "source": [
    "# Plot a basic line graph\n",
    "plt.plot([1, 2, 3], [4, 6, 8])"
   ]
  },
  {
   "cell_type": "markdown",
   "metadata": {},
   "source": [
    "<hr>\n",
    "![sklearn](img/sklearn.png)\n",
    "\n",
    "<div class=\"alert alert-success\">\n",
    "Scikit-Learn is a packages for data mining, data analysis, and machine learning. \n",
    "</div>\n",
    "\n",
    "<div class=\"alert alert-info\">\n",
    "Link: http://scikit-learn.org/\n",
    "</div>"
   ]
  },
  {
   "cell_type": "code",
   "execution_count": null,
   "metadata": {
    "collapsed": true
   },
   "outputs": [],
   "source": [
    "#\n",
    "import sklearn as skl"
   ]
  },
  {
   "cell_type": "code",
   "execution_count": null,
   "metadata": {
    "collapsed": true
   },
   "outputs": [],
   "source": [
    "skl."
   ]
  },
  {
   "cell_type": "markdown",
   "metadata": {},
   "source": []
  },
  {
   "cell_type": "markdown",
   "metadata": {
    "collapsed": true
   },
   "source": [
    "### External Resources\n",
    "<br>\n",
    "<div class=\"alert alert-info\">\n",
    "Free Data Science Handbook - in Jupyter Notebooks: https://github.com/jakevdp/PythonDataScienceHandbook/\n",
    "</div>"
   ]
  }
 ],
 "metadata": {
  "anaconda-cloud": {},
  "kernelspec": {
   "display_name": "Python 3",
   "language": "python",
   "name": "python3"
  },
  "language_info": {
   "codemirror_mode": {
    "name": "ipython",
    "version": 3
   },
   "file_extension": ".py",
   "mimetype": "text/x-python",
   "name": "python",
   "nbconvert_exporter": "python",
   "pygments_lexer": "ipython3",
   "version": "3.6.0"
  }
 },
 "nbformat": 4,
 "nbformat_minor": 1
}
